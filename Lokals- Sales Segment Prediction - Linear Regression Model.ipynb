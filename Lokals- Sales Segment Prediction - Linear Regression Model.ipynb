{
 "cells": [
  {
   "cell_type": "code",
   "execution_count": 162,
   "id": "27678327",
   "metadata": {},
   "outputs": [],
   "source": [
    "new_dataframe = pd.read_csv('df-dates-seperated.csv')\n",
    "from sklearn.linear_model import LinearRegression\n",
    "import numpy as np \n",
    "import matplotlib.pyplot as plt\n",
    "import pandas as pd"
   ]
  },
  {
   "cell_type": "code",
   "execution_count": 163,
   "id": "c6b09e5a",
   "metadata": {},
   "outputs": [],
   "source": [
    "\n",
    "\n",
    "def segment_prediction(predict_year,predict_month,segment,segment_item,segment_2,segment_item_2):\n",
    "    \n",
    "    Cat_name = []\n",
    "    array_1 = []\n",
    "    y = 1\n",
    "    to_year = int(new_dataframe['year'].max())\n",
    "    from_year =int( new_dataframe['year'].min())\n",
    "    years_diff = predict_year- from_year\n",
    "    months_diff  = (years_diff * 12)+ predict_month\n",
    "\n",
    "    if segment == 'Catagory':segment_name = ['Top', 'Bottom', 'Dress', 'Jumpsuit']\n",
    "    elif segment == 'Size': segment_name = ['Small', 'Medium', 'Large']\n",
    "    elif segment == 'Color': segment_name = ['Black', 'White', 'Colored', 'Pattenred']\n",
    "\n",
    "    if segment_2 == 'Catagory':segment_name_2 = ['Top', 'Bottom', 'Dress', 'Jumpsuit']\n",
    "    elif segment_2 == 'Size': segment_name_2 = ['Small', 'Medium', 'Large']\n",
    "    elif segment_2 == 'Color': segment_name_2 = ['Black', 'White', 'Colored', 'Pattenred']\n",
    "\n",
    "    for x in range(from_year,(to_year+1) ):\n",
    "        Cat_name_1= [y,y+1,y+2,y+3,y+4,y+5,y+6,y+7,y+8,y+9,y+10,y+11]\n",
    "        y = y +12\n",
    "        Cat_name = np.concatenate((Cat_name, Cat_name_1))\n",
    "        selected_group = new_dataframe.loc[(new_dataframe[\"year\"] == x)]\n",
    "        #Selecting without segment\n",
    "        if segment == 0:\n",
    "            selected_group_2 = selected_group\n",
    "        else:  # selecting Segment 1\n",
    "            selected_group_2 = selected_group.loc[(selected_group[segment] == segment_item)]\n",
    "\n",
    "        if segment_2 == 0:\n",
    "            selected_group_3 = selected_group_2\n",
    "        else:  # selecting Segment  2\n",
    "            selected_group_3 = selected_group_2.loc[(selected_group_2[segment_2] == segment_item_2)]\n",
    "    \n",
    "        count_group = selected_group_3.groupby(['month'])['month'].count() \n",
    "        seleced_df = pd.DataFrame(Cat_name, columns=['month'])\n",
    "        for x in count_group:\n",
    "            array_1.append(x)\n",
    "\n",
    "    x = np.array(Cat_name).reshape((-1, 1))\n",
    "    y = np.array(array_1)\n",
    "    model = LinearRegression()\n",
    "    model = LinearRegression().fit(x, y)\n",
    "    r_sq = model.score(x, y)\n",
    "\n",
    "    x= [[months_diff]]\n",
    "    y_pred = model.predict(x)\n",
    "    if segment==0:\n",
    "        if segment_2==0:\n",
    "            print(\"number of sales for all of datas is:\" +str(round(y_pred[0])))\n",
    "        else:\n",
    "            print(\"number of sales for segment:\"+str( segment_2)+\" \"+segment_name_2[segment_item_2]+' is:' +str(round(y_pred[0])))\n",
    "    else:\n",
    "        if segment_2==0 :\n",
    "            print(\"number of sales for segment:\"+str( segment)+\" \"+segment_name[segment_item]+' is:' +str(round(y_pred[0])))\n",
    "        else:\n",
    "            print(\"Number of sales prediction for segments:\"+str( segment)+\" \"+segment_name[segment_item]+\" and \"+str( segment_2)+\" \"+segment_name_2[segment_item_2]+' is: ' +str(round(y_pred[0])))\n",
    "    print(f\"coefficient of determination: {round(r_sq,2)}\")\n"
   ]
  },
  {
   "cell_type": "code",
   "execution_count": 164,
   "id": "90c29bfc",
   "metadata": {},
   "outputs": [
    {
     "name": "stdout",
     "output_type": "stream",
     "text": [
      "number of sales for all of datas is:425\n",
      "coefficient of determination: 0.92\n"
     ]
    }
   ],
   "source": [
    "segment_prediction(2025,1,0,3,0,2)"
   ]
  },
  {
   "cell_type": "code",
   "execution_count": 165,
   "id": "de1ccca9",
   "metadata": {},
   "outputs": [
    {
     "name": "stdout",
     "output_type": "stream",
     "text": [
      "Number of sales prediction for segments:Catagory Jumpsuit and Size Large is: 21\n",
      "coefficient of determination: 0.5\n"
     ]
    }
   ],
   "source": [
    "segment_prediction(2025,1,'Catagory',3,'Size',2)"
   ]
  },
  {
   "cell_type": "code",
   "execution_count": 166,
   "id": "3326249b",
   "metadata": {},
   "outputs": [
    {
     "name": "stdout",
     "output_type": "stream",
     "text": [
      "Number of sales prediction for segments:Size Large and Color Colored is: 18\n",
      "coefficient of determination: 0.52\n"
     ]
    }
   ],
   "source": [
    "segment_prediction(2025,1,'Size',2,'Color',2)"
   ]
  },
  {
   "cell_type": "code",
   "execution_count": null,
   "id": "fdd31560",
   "metadata": {},
   "outputs": [],
   "source": []
  }
 ],
 "metadata": {
  "kernelspec": {
   "display_name": "Python 3 (ipykernel)",
   "language": "python",
   "name": "python3"
  },
  "language_info": {
   "codemirror_mode": {
    "name": "ipython",
    "version": 3
   },
   "file_extension": ".py",
   "mimetype": "text/x-python",
   "name": "python",
   "nbconvert_exporter": "python",
   "pygments_lexer": "ipython3",
   "version": "3.9.13"
  }
 },
 "nbformat": 4,
 "nbformat_minor": 5
}
